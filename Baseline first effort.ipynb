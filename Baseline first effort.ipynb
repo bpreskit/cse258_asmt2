{
 "cells": [
  {
   "cell_type": "code",
   "execution_count": null,
   "metadata": {
    "collapsed": true
   },
   "outputs": [],
   "source": [
    "import pandas as pd\n",
    "import numpy as np\n",
    "import matplotlib.pyplot as plt\n",
    "import sklearn.linear_model\n",
    "import sklearn.svm\n",
    "from sys import getsizeof\n",
    "import sklearn.utils\n",
    "import random\n",
    "import sklearn.metrics"
   ]
  },
  {
   "cell_type": "code",
   "execution_count": null,
   "metadata": {
    "collapsed": false
   },
   "outputs": [],
   "source": [
    "%%time\n",
    "#Sample ~s values from flights\n",
    "n = 5800000\n",
    "s = 500009\n",
    "skip = np.random.choice(np.arange(1, n), n-s, replace = False)\n",
    "flights = pd.read_csv(r\"C:\\Users\\Garrett Williams\\Desktop\\flights.csv\", skiprows = skip)\n",
    "#airports = pd.read_csv(r\"C:\\Users\\Garrett\\Desktop\\airports.csv\")\n",
    "#airlines = pd.read_csv(r\"C:\\Users\\Garrett\\Desktop\\airlines.csv\")"
   ]
  },
  {
   "cell_type": "code",
   "execution_count": null,
   "metadata": {
    "collapsed": false
   },
   "outputs": [],
   "source": [
    "%%time\n",
    "#Feature preparation\n",
    "\n",
    "#1hot encoding of airline\n",
    "I = np.identity(14)\n",
    "airlines_dict = dict(zip(flights['AIRLINE'].unique(), I) )\n",
    "flights['airlines'] = flights['AIRLINE'].map(airlines_dict).astype(list)\n",
    "#temp_airlines = np.array(flights['AIRLINE'].map(airlines_dict).astype(list))\n",
    "\n",
    "#1hot encoding of Day of week\n",
    "I = np.identity(7)\n",
    "daysofweek = dict(zip(flights['DAY_OF_WEEK'].unique(), I) )\n",
    "flights['daysofweek'] = flights['DAY_OF_WEEK'].map(daysofweek).astype(list)\n",
    "#temp_dayofweek = np.array(flights['DAY_OF_WEEK'].map(daysofweek).astype(list))\n",
    "\n",
    "#1hot encoding of Month\n",
    "I = np.identity(12)\n",
    "months = dict(zip(flights['MONTH'].unique(), I) )\n",
    "flights['months'] = flights['MONTH'].map(months).astype(list)\n",
    "#temp_months = np.array(flights['MONTH'].map(months).astype(list))\n",
    "\n",
    "\n",
    "#1hot encoding of airports\n",
    "I = np.identity(len(flights['ORIGIN_AIRPORT'].unique()))\n",
    "origin = dict(zip(flights['ORIGIN_AIRPORT'].unique(), I))\n",
    "flights['origin'] = flights['ORIGIN_AIRPORT'].map(origin).astype(list)\n",
    "#temp_origin = np.array(flights['ORIGIN_AIRPORT'].map(origin).astype(list))\n",
    "\n",
    "#1hot encoding of airports\n",
    "I = np.identity(len(flights['DESTINATION_AIRPORT'].unique()))\n",
    "depart = dict(zip(flights['DESTINATION_AIRPORT'].unique(), I))\n",
    "flights['destination'] = flights['DESTINATION_AIRPORT'].map(depart).astype(list)\n",
    "#temp_depart = np.array(flights['DESTINATION_AIRPORT'].map(depart).astype(list))\n"
   ]
  },
  {
   "cell_type": "code",
   "execution_count": null,
   "metadata": {
    "collapsed": true
   },
   "outputs": [],
   "source": [
    "%%time\n",
    "#Map arrival delays onto 3 categories: early, 0 - 60 minutes late, greater than 60 minutes\n",
    "arrival = []\n",
    "delay_time = 60\n",
    "for i in range(len(flights['ARRIVAL_DELAY'])):\n",
    "    if flights['ARRIVAL_DELAY'][i] < 0:\n",
    "        arrival.append(0)\n",
    "    elif flights['ARRIVAL_DELAY'][i] >= 0 and flights['ARRIVAL_DELAY'][i] < delay_time:\n",
    "        arrival.append(1)\n",
    "    else:\n",
    "        arrival.append(2)\n",
    "\n",
    "arrival = np.array(arrival)"
   ]
  },
  {
   "cell_type": "raw",
   "metadata": {},
   "source": [
    "%%time\n",
    "#Map arrival delays onto 2 categories: early, 0 - 60 minutes late, greater than 60 minutes\n",
    "arrival = []\n",
    "delay_time = 60\n",
    "for i in range(len(flights['ARRIVAL_DELAY'])):\n",
    "    if flights['ARRIVAL_DELAY'][i] < delay_time:\n",
    "        arrival.append(0)\n",
    "    else:\n",
    "        arrival.append(1)\n",
    "\n",
    "arrival = np.array(arrival)"
   ]
  },
  {
   "cell_type": "code",
   "execution_count": null,
   "metadata": {
    "collapsed": false
   },
   "outputs": [],
   "source": [
    "%%time\n",
    "#cancelled = np.array(flights['CANCELLED'])\n",
    "labels_to_drop = ['origin', 'destination', 'SCHEDULED_DEPARTURE', 'SCHEDULED_TIME', 'DAY', 'YEAR','ORIGIN_AIRPORT', 'DESTINATION_AIRPORT', 'ELAPSED_TIME', 'MONTH', 'DAY_OF_WEEK', 'AIRLINE', 'SCHEDULED_ARRIVAL', 'DEPARTURE_DELAY', 'DEPARTURE_TIME', 'TAXI_OUT','FLIGHT_NUMBER', 'TAIL_NUMBER', 'WHEELS_OFF', 'AIR_TIME', 'DISTANCE', 'WHEELS_ON', 'TAXI_IN', 'CANCELLED', 'CANCELLATION_REASON', 'AIR_SYSTEM_DELAY', 'SECURITY_DELAY', 'AIRLINE_DELAY', 'LATE_AIRCRAFT_DELAY', 'WEATHER_DELAY', 'ARRIVAL_TIME', 'ARRIVAL_DELAY', 'DIVERTED']"
   ]
  },
  {
   "cell_type": "code",
   "execution_count": null,
   "metadata": {
    "collapsed": false
   },
   "outputs": [],
   "source": [
    "%%time\n",
    "#Remove all NaN\n",
    "flight = flights.drop(labels_to_drop, axis=1)\n",
    "DATA = flight.dropna()"
   ]
  },
  {
   "cell_type": "code",
   "execution_count": null,
   "metadata": {
    "collapsed": false
   },
   "outputs": [],
   "source": [
    "flight.dtypes"
   ]
  },
  {
   "cell_type": "code",
   "execution_count": null,
   "metadata": {
    "collapsed": true
   },
   "outputs": [],
   "source": [
    "#Clears memory\n",
    "flights = None "
   ]
  },
  {
   "cell_type": "code",
   "execution_count": null,
   "metadata": {
    "collapsed": false
   },
   "outputs": [],
   "source": [
    "%%time\n",
    "#Format data so its easier to handle with machine learning algorithms\n",
    "N = np.round(len(DATA)/2)\n",
    "X_train = np.array(DATA)[0:N]\n",
    "X_test = np.array(DATA)[N:]\n",
    "\n",
    "y = arrival[0:N]\n",
    "\n",
    "\n",
    "X = []\n",
    "for i in range(len(X_train)):\n",
    "    X.append([x for y in X_train[i] for x in y]) \n",
    "X = np.array(X)\n",
    "\n",
    "\n",
    "X2 = []\n",
    "for i in range(len(X_test)):\n",
    "    X2.append([x for y in X_test[i] for x in y]) \n",
    "X2= np.array(X2)\n",
    "\n",
    "Data = None \n",
    "X_test = None\n",
    "X_train = None"
   ]
  },
  {
   "cell_type": "code",
   "execution_count": null,
   "metadata": {
    "collapsed": true
   },
   "outputs": [],
   "source": []
  },
  {
   "cell_type": "raw",
   "metadata": {},
   "source": [
    "Models"
   ]
  },
  {
   "cell_type": "raw",
   "metadata": {},
   "source": [
    "Ridge Regression"
   ]
  },
  {
   "cell_type": "code",
   "execution_count": null,
   "metadata": {
    "collapsed": false
   },
   "outputs": [],
   "source": [
    "%%time\n",
    "for param in [1]:\n",
    "    model = sklearn.linear_model.Ridge(alpha = param, fit_intercept=True)\n",
    "    model = model.fit(X,y)\n",
    "    values = model.predict(X2)\n",
    "    print(sklearn.metrics.mean_squared_error(y, values))"
   ]
  },
  {
   "cell_type": "code",
   "execution_count": null,
   "metadata": {
    "collapsed": true
   },
   "outputs": [],
   "source": []
  },
  {
   "cell_type": "raw",
   "metadata": {},
   "source": [
    "Logistic Regression"
   ]
  },
  {
   "cell_type": "code",
   "execution_count": null,
   "metadata": {
    "collapsed": false
   },
   "outputs": [],
   "source": [
    "%%time\n",
    "model = sklearn.linear_model.LogisticRegression(fit_intercept=True, solver = 'newton-cg', multi_class = 'multinomial')\n",
    "model = model.fit(X,y)"
   ]
  },
  {
   "cell_type": "code",
   "execution_count": null,
   "metadata": {
    "collapsed": false
   },
   "outputs": [],
   "source": [
    "values = model.predict(X2)\n",
    "sklearn.metrics.mean_squared_error(y, values)"
   ]
  },
  {
   "cell_type": "code",
   "execution_count": null,
   "metadata": {
    "collapsed": false
   },
   "outputs": [],
   "source": [
    "sklearn.metrics.mean_squared_error(y, [0]*len(y))"
   ]
  },
  {
   "cell_type": "code",
   "execution_count": null,
   "metadata": {
    "collapsed": false
   },
   "outputs": [],
   "source": [
    "sklearn.metrics.confusion_matrix(y, values)"
   ]
  },
  {
   "cell_type": "code",
   "execution_count": null,
   "metadata": {
    "collapsed": true
   },
   "outputs": [],
   "source": []
  }
 ],
 "metadata": {
  "anaconda-cloud": {},
  "kernelspec": {
   "display_name": "Python [Root]",
   "language": "python",
   "name": "Python [Root]"
  },
  "language_info": {
   "codemirror_mode": {
    "name": "ipython",
    "version": 3
   },
   "file_extension": ".py",
   "mimetype": "text/x-python",
   "name": "python",
   "nbconvert_exporter": "python",
   "pygments_lexer": "ipython3",
   "version": "3.5.2"
  }
 },
 "nbformat": 4,
 "nbformat_minor": 0
}
