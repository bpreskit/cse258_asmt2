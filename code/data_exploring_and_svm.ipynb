{
 "cells": [
  {
   "cell_type": "code",
   "execution_count": 214,
   "metadata": {
    "collapsed": false
   },
   "outputs": [],
   "source": [
    "import urllib\n",
    "import random\n",
    "import numpy as np\n",
    "import pandas as pd\n",
    "import seaborn as sns\n",
    "import matplotlib.pyplot as plt\n",
    "from collections import defaultdict\n",
    "from sklearn import svm"
   ]
  },
  {
   "cell_type": "code",
   "execution_count": 4,
   "metadata": {
    "collapsed": true
   },
   "outputs": [],
   "source": [
    "%matplotlib inline"
   ]
  },
  {
   "cell_type": "code",
   "execution_count": 197,
   "metadata": {
    "collapsed": false
   },
   "outputs": [],
   "source": [
    "airlines = pd.read_csv('/Users/wangzongwei/Desktop/cse258/flight-delays/airlines.csv')\n",
    "airports = pd.read_csv('/Users/wangzongwei/Desktop/cse258/flight-delays/airports.csv')\n",
    "flights = pd.read_csv('/Users/wangzongwei/Desktop/cse258/flight-delays/flights.csv', low_memory=False)"
   ]
  },
  {
   "cell_type": "code",
   "execution_count": 286,
   "metadata": {
    "collapsed": false
   },
   "outputs": [],
   "source": [
    "D = 60"
   ]
  },
  {
   "cell_type": "code",
   "execution_count": 198,
   "metadata": {
    "collapsed": false
   },
   "outputs": [
    {
     "data": {
      "text/html": [
       "<div>\n",
       "<table border=\"1\" class=\"dataframe\">\n",
       "  <thead>\n",
       "    <tr style=\"text-align: right;\">\n",
       "      <th></th>\n",
       "      <th>YEAR</th>\n",
       "      <th>MONTH</th>\n",
       "      <th>DAY</th>\n",
       "      <th>DAY_OF_WEEK</th>\n",
       "      <th>AIRLINE</th>\n",
       "      <th>FLIGHT_NUMBER</th>\n",
       "      <th>TAIL_NUMBER</th>\n",
       "      <th>ORIGIN_AIRPORT</th>\n",
       "      <th>DESTINATION_AIRPORT</th>\n",
       "      <th>SCHEDULED_DEPARTURE</th>\n",
       "      <th>...</th>\n",
       "      <th>ARRIVAL_TIME</th>\n",
       "      <th>ARRIVAL_DELAY</th>\n",
       "      <th>DIVERTED</th>\n",
       "      <th>CANCELLED</th>\n",
       "      <th>CANCELLATION_REASON</th>\n",
       "      <th>AIR_SYSTEM_DELAY</th>\n",
       "      <th>SECURITY_DELAY</th>\n",
       "      <th>AIRLINE_DELAY</th>\n",
       "      <th>LATE_AIRCRAFT_DELAY</th>\n",
       "      <th>WEATHER_DELAY</th>\n",
       "    </tr>\n",
       "  </thead>\n",
       "  <tbody>\n",
       "    <tr>\n",
       "      <th>0</th>\n",
       "      <td>2015</td>\n",
       "      <td>1</td>\n",
       "      <td>1</td>\n",
       "      <td>4</td>\n",
       "      <td>AS</td>\n",
       "      <td>98</td>\n",
       "      <td>N407AS</td>\n",
       "      <td>ANC</td>\n",
       "      <td>SEA</td>\n",
       "      <td>5</td>\n",
       "      <td>...</td>\n",
       "      <td>408.0</td>\n",
       "      <td>-22.0</td>\n",
       "      <td>0</td>\n",
       "      <td>0</td>\n",
       "      <td>NaN</td>\n",
       "      <td>NaN</td>\n",
       "      <td>NaN</td>\n",
       "      <td>NaN</td>\n",
       "      <td>NaN</td>\n",
       "      <td>NaN</td>\n",
       "    </tr>\n",
       "    <tr>\n",
       "      <th>1</th>\n",
       "      <td>2015</td>\n",
       "      <td>1</td>\n",
       "      <td>1</td>\n",
       "      <td>4</td>\n",
       "      <td>AA</td>\n",
       "      <td>2336</td>\n",
       "      <td>N3KUAA</td>\n",
       "      <td>LAX</td>\n",
       "      <td>PBI</td>\n",
       "      <td>10</td>\n",
       "      <td>...</td>\n",
       "      <td>741.0</td>\n",
       "      <td>-9.0</td>\n",
       "      <td>0</td>\n",
       "      <td>0</td>\n",
       "      <td>NaN</td>\n",
       "      <td>NaN</td>\n",
       "      <td>NaN</td>\n",
       "      <td>NaN</td>\n",
       "      <td>NaN</td>\n",
       "      <td>NaN</td>\n",
       "    </tr>\n",
       "    <tr>\n",
       "      <th>2</th>\n",
       "      <td>2015</td>\n",
       "      <td>1</td>\n",
       "      <td>1</td>\n",
       "      <td>4</td>\n",
       "      <td>US</td>\n",
       "      <td>840</td>\n",
       "      <td>N171US</td>\n",
       "      <td>SFO</td>\n",
       "      <td>CLT</td>\n",
       "      <td>20</td>\n",
       "      <td>...</td>\n",
       "      <td>811.0</td>\n",
       "      <td>5.0</td>\n",
       "      <td>0</td>\n",
       "      <td>0</td>\n",
       "      <td>NaN</td>\n",
       "      <td>NaN</td>\n",
       "      <td>NaN</td>\n",
       "      <td>NaN</td>\n",
       "      <td>NaN</td>\n",
       "      <td>NaN</td>\n",
       "    </tr>\n",
       "    <tr>\n",
       "      <th>3</th>\n",
       "      <td>2015</td>\n",
       "      <td>1</td>\n",
       "      <td>1</td>\n",
       "      <td>4</td>\n",
       "      <td>AA</td>\n",
       "      <td>258</td>\n",
       "      <td>N3HYAA</td>\n",
       "      <td>LAX</td>\n",
       "      <td>MIA</td>\n",
       "      <td>20</td>\n",
       "      <td>...</td>\n",
       "      <td>756.0</td>\n",
       "      <td>-9.0</td>\n",
       "      <td>0</td>\n",
       "      <td>0</td>\n",
       "      <td>NaN</td>\n",
       "      <td>NaN</td>\n",
       "      <td>NaN</td>\n",
       "      <td>NaN</td>\n",
       "      <td>NaN</td>\n",
       "      <td>NaN</td>\n",
       "    </tr>\n",
       "    <tr>\n",
       "      <th>4</th>\n",
       "      <td>2015</td>\n",
       "      <td>1</td>\n",
       "      <td>1</td>\n",
       "      <td>4</td>\n",
       "      <td>AS</td>\n",
       "      <td>135</td>\n",
       "      <td>N527AS</td>\n",
       "      <td>SEA</td>\n",
       "      <td>ANC</td>\n",
       "      <td>25</td>\n",
       "      <td>...</td>\n",
       "      <td>259.0</td>\n",
       "      <td>-21.0</td>\n",
       "      <td>0</td>\n",
       "      <td>0</td>\n",
       "      <td>NaN</td>\n",
       "      <td>NaN</td>\n",
       "      <td>NaN</td>\n",
       "      <td>NaN</td>\n",
       "      <td>NaN</td>\n",
       "      <td>NaN</td>\n",
       "    </tr>\n",
       "  </tbody>\n",
       "</table>\n",
       "<p>5 rows × 31 columns</p>\n",
       "</div>"
      ],
      "text/plain": [
       "   YEAR  MONTH  DAY  DAY_OF_WEEK AIRLINE  FLIGHT_NUMBER TAIL_NUMBER  \\\n",
       "0  2015      1    1            4      AS             98      N407AS   \n",
       "1  2015      1    1            4      AA           2336      N3KUAA   \n",
       "2  2015      1    1            4      US            840      N171US   \n",
       "3  2015      1    1            4      AA            258      N3HYAA   \n",
       "4  2015      1    1            4      AS            135      N527AS   \n",
       "\n",
       "  ORIGIN_AIRPORT DESTINATION_AIRPORT  SCHEDULED_DEPARTURE      ...        \\\n",
       "0            ANC                 SEA                    5      ...         \n",
       "1            LAX                 PBI                   10      ...         \n",
       "2            SFO                 CLT                   20      ...         \n",
       "3            LAX                 MIA                   20      ...         \n",
       "4            SEA                 ANC                   25      ...         \n",
       "\n",
       "   ARRIVAL_TIME  ARRIVAL_DELAY  DIVERTED  CANCELLED  CANCELLATION_REASON  \\\n",
       "0         408.0          -22.0         0          0                  NaN   \n",
       "1         741.0           -9.0         0          0                  NaN   \n",
       "2         811.0            5.0         0          0                  NaN   \n",
       "3         756.0           -9.0         0          0                  NaN   \n",
       "4         259.0          -21.0         0          0                  NaN   \n",
       "\n",
       "   AIR_SYSTEM_DELAY  SECURITY_DELAY  AIRLINE_DELAY  LATE_AIRCRAFT_DELAY  \\\n",
       "0               NaN             NaN            NaN                  NaN   \n",
       "1               NaN             NaN            NaN                  NaN   \n",
       "2               NaN             NaN            NaN                  NaN   \n",
       "3               NaN             NaN            NaN                  NaN   \n",
       "4               NaN             NaN            NaN                  NaN   \n",
       "\n",
       "   WEATHER_DELAY  \n",
       "0            NaN  \n",
       "1            NaN  \n",
       "2            NaN  \n",
       "3            NaN  \n",
       "4            NaN  \n",
       "\n",
       "[5 rows x 31 columns]"
      ]
     },
     "execution_count": 198,
     "metadata": {},
     "output_type": "execute_result"
    }
   ],
   "source": [
    "flights.head()"
   ]
  },
  {
   "cell_type": "code",
   "execution_count": 60,
   "metadata": {
    "collapsed": true
   },
   "outputs": [],
   "source": [
    "scheduled_mon = [0]*12\n",
    "for i in range(1,13):\n",
    "    scheduled_mon[i-1] = flights[flights['MONTH']==i].count()['SCHEDULED_DEPARTURE']"
   ]
  },
  {
   "cell_type": "code",
   "execution_count": 66,
   "metadata": {
    "collapsed": false
   },
   "outputs": [
    {
     "name": "stdout",
     "output_type": "stream",
     "text": [
      "Cancelled:\n",
      "Mon=1 11982 13.3305148859% 469968 2.54953528751%\n",
      "Mon=2 20517 22.8260869565% 429191 4.78038915075%\n",
      "Mon=3 11002 12.2402207289% 504312 2.18158600232%\n",
      "Mon=4 4520 5.0287036625% 485151 0.931668696962%\n",
      "Mon=5 5694 6.33483156068% 496993 1.14569018075%\n",
      "Mon=6 9120 10.1464109296% 503897 1.80989368859%\n",
      "Mon=7 4806 5.34689154911% 520718 0.922956379461%\n",
      "Mon=8 5052 5.62057763339% 510536 0.989548239497%\n",
      "Mon=9 2075 2.30853099551% 464946 0.446288386178%\n",
      "Mon=10 2454 2.73018557252% 486165 0.504766900127%\n",
      "Mon=11 4599 5.11659472209% 467972 0.982751104767%\n",
      "Mon=12 8063 8.97045080326% 479230 1.6824906621%\n",
      "Total: 89884 5819079 1.54464306121%\n"
     ]
    }
   ],
   "source": [
    "print 'Cancelled:'\n",
    "operated_mon = [0]*12\n",
    "cancelled_mon = [0]*12\n",
    "n_cancelled = flights[(flights['CANCELLED']==1)].count()['CANCELLED']\n",
    "for i in range(1,13):\n",
    "    mon_n_cancelled = flights[(flights['CANCELLED']==1)&(flights['MONTH']==i)].count()['CANCELLED']\n",
    "    cancelled_mon[i-1] = mon_n_cancelled\n",
    "    operated_mon[i-1] = scheduled_mon[i-1]-mon_n_cancelled\n",
    "    ratio1 = mon_n_cancelled*1.0/n_cancelled*100\n",
    "    ratio2 = mon_n_cancelled*1.0/scheduled_mon[i-1]*100\n",
    "    print 'Mon='+str(i)+' '+str(mon_n_cancelled)+' '+str(ratio1)+'%'+' '+str(scheduled_mon[i-1])+' '+str(ratio2)+'%'\n",
    "ratio3 = n_cancelled*1.0/sum(scheduled_mon)*100\n",
    "print 'Total: '+str(n_cancelled)+' '+str(sum(scheduled_mon))+' '+str(ratio3)+'%'"
   ]
  },
  {
   "cell_type": "code",
   "execution_count": 87,
   "metadata": {
    "collapsed": false
   },
   "outputs": [
    {
     "name": "stdout",
     "output_type": "stream",
     "text": [
      "day of week=1 21073 23.4446620088%\n",
      "day of week=2 15072 16.7682791153%\n",
      "day of week=3 10729 11.9364959281%\n",
      "day of week=4 12291 13.6742913088%\n",
      "day of week=5 8805 9.79595923635%\n",
      "day of week=6 8749 9.7336567131%\n",
      "day of week=7 13165 14.6466556896%\n"
     ]
    }
   ],
   "source": [
    "cancelled_dow = [0]*7\n",
    "for i in range(1,8):\n",
    "    cancelled_dow[i-1] = flights[(flights['CANCELLED']==1)&(flights['DAY_OF_WEEK']==i)].count()['CANCELLED']\n",
    "    ratio = cancelled_dow[i-1]*1.0/n_cancelled*100\n",
    "    print 'day of week='+str(i)+' '+str(cancelled_dow[i-1])+' '+str(ratio)+'%'"
   ]
  },
  {
   "cell_type": "code",
   "execution_count": 111,
   "metadata": {
    "collapsed": false
   },
   "outputs": [],
   "source": [
    "departure_delay = flights[(flights['DEPARTURE_DELAY']>D)].count()['DEPARTURE_DELAY']\n",
    "arrival_delay = flights[(flights['ARRIVAL_DELAY']>D)].count()['ARRIVAL_DELAY']\n",
    "duo_delay = flights[(flights['ARRIVAL_DELAY']>D)&(flights['DEPARTURE_DELAY']>D)].count()['ARRIVAL_DELAY']"
   ]
  },
  {
   "cell_type": "code",
   "execution_count": 99,
   "metadata": {
    "collapsed": false
   },
   "outputs": [
    {
     "name": "stdout",
     "output_type": "stream",
     "text": [
      "Arrival Delay > 30 min (Monthly):\n",
      "Jan 56793 8.9763346436% 457986 12.4005973982%\n",
      "Feb 57601 9.10404190315% 408674 14.0946084165%\n",
      "Mar 55275 8.73640937131% 493310 11.2049218544%\n",
      "Apr 46346 7.32514932108% 480631 9.64274048074%\n",
      "May 54280 8.57914609995% 491299 11.0482618528%\n",
      "Jun 73381 11.5981267495% 494777 14.8311259416%\n",
      "Jul 66687 10.540116359% 515912 12.9260416505%\n",
      "Aug 57801 9.13565261097% 505484 11.4347832968%\n",
      "Sep 33816 5.34473847671% 462871 7.30570720568%\n",
      "Oct 32374 5.11682527339% 483711 6.69283931935%\n",
      "Nov 39658 6.26808725188% 463373 8.55854786533%\n",
      "Dec 58685 9.27537193949% 471167 12.4552441067%\n",
      "Total: 632697 5729195 11.0433839309%\n"
     ]
    }
   ],
   "source": [
    "print 'Arrival Delay > '+str(D)+' min (Monthly):'\n",
    "arr_delayed_mon = [0]*12\n",
    "# dep_delayed_mon = [0]*12\n",
    "month = ['Jan', 'Feb', 'Mar', 'Apr', 'May', 'Jun', 'Jul', 'Aug', 'Sep', 'Oct', 'Nov', 'Dec']\n",
    "for i in range(1,13):\n",
    "    mon_arrival_delay = flights[(flights['ARRIVAL_DELAY']>D)&(flights['MONTH']==i)].count()['ARRIVAL_DELAY']\n",
    "#     mon_departure_delay = flights[(flights['DEPARTURE_DELAY']>5)&(flights['MONTH']==i)].count()['DEPARTURE_DELAY']\n",
    "    arr_delayed_mon[i-1] = mon_arrival_delay\n",
    "#     dep_delayed_mon[i-1] = mon_departure_delay\n",
    "    ratio1 = mon_arrival_delay*1.0/arrival_delay*100\n",
    "    ratio2 = mon_arrival_delay*1.0/operated_mon[i-1]*100\n",
    "#     r = mon_departure_delay*1.0/departure_delay*100\n",
    "    print str(month[i-1])+' '+str(mon_arrival_delay)+' '+str(ratio1)+'% '+str(operated_mon[i-1])+' '+str(ratio2)+'%'\n",
    "ratio3 = arrival_delay*1.0/sum(operated_mon)*100\n",
    "print 'Total: '+str(arrival_delay)+' '+str(sum(operated_mon))+' '+str(ratio3)+'%'"
   ]
  },
  {
   "cell_type": "code",
   "execution_count": 103,
   "metadata": {
    "collapsed": false
   },
   "outputs": [
    {
     "name": "stdout",
     "output_type": "stream",
     "text": [
      "Arrival Delay > 30 min (Seasonally):\n",
      "Spring 155901 1465240 10.639963419% 25.574971702%\n",
      "Summer 197869 1516173 13.0505555764% 26.463979669%\n",
      "Fall 105848 1409955 7.50718994578% 24.6100019287%\n",
      "Winter 173079 1337827 12.9373229872% 23.3510467003%\n"
     ]
    }
   ],
   "source": [
    "print 'Arrival Delay > '+str(D)+' min (Seasonally):'\n",
    "season = ['Spring', 'Summer', 'Fall', 'Winter']\n",
    "arr_delayed_season = [0]*4\n",
    "operated_season = [0]*4\n",
    "j = 0\n",
    "for i in range(12):\n",
    "    arr_delayed_season[j] += arr_delayed_mon[(i+2)%12]\n",
    "    operated_season[j] += operated_mon[(i+2)%12]\n",
    "    if i == 2 or i == 5 or i == 8:\n",
    "        j += 1\n",
    "for i in range(4):\n",
    "    ratio1 = arr_delayed_season[i]*1.0/operated_season[i]*100\n",
    "    ratio2 = operated_season[i]*1.0/sum(operated_season)*100\n",
    "    print season[i]+' '+str(arr_delayed_season[i])+' '+str(operated_season[i])+' '+str(ratio1)+'% '+str(ratio2)+'%'"
   ]
  },
  {
   "cell_type": "code",
   "execution_count": 104,
   "metadata": {
    "collapsed": false
   },
   "outputs": [
    {
     "name": "stdout",
     "output_type": "stream",
     "text": [
      "Mon 102843 16.2547001171%\n",
      "Tue 91715 14.4958803345%\n",
      "Wed 90175 14.2524778844%\n",
      "Thu 101019 15.9664104619%\n",
      "Fri 94214 14.8908561286%\n",
      "Sat 64701 10.2262220305%\n",
      "Sun 88030 13.9134530431%\n"
     ]
    }
   ],
   "source": [
    "arr_delayed_dow = [0]*7\n",
    "dow = ['Mon', 'Tue', 'Wed', 'Thu', 'Fri', 'Sat', 'Sun']\n",
    "for i in range(1,8):\n",
    "    arr_delayed_dow[i-1] = flights[(flights['ARRIVAL_DELAY']>D)&(flights['DAY_OF_WEEK']==i)].count()['ARRIVAL_DELAY']\n",
    "    ratio = arr_delayed_dow[i-1]*1.0/arrival_delay*100\n",
    "    print str(dow[i-1])+' '+str(arr_delayed_dow[i-1])+' '+str(ratio)+'%'"
   ]
  },
  {
   "cell_type": "code",
   "execution_count": 112,
   "metadata": {
    "collapsed": false
   },
   "outputs": [
    {
     "name": "stdout",
     "output_type": "stream",
     "text": [
      "departure delayed: 638370\n",
      "arrival delayed: 632697\n",
      "departure & arrival delayed: 526984 83.2916862258%\n",
      "departure on time & arrival delayed: 105713 16.7083137742%\n"
     ]
    }
   ],
   "source": [
    "print 'departure delayed: '+str(departure_delay)\n",
    "print 'arrival delayed: '+str(arrival_delay)\n",
    "ratio1 = duo_delay*1.0/arrival_delay*100\n",
    "print 'departure & arrival delayed: '+str(duo_delay)+' '+str(ratio1)+'%'\n",
    "ratio2 = flights[(flights['ARRIVAL_DELAY']>D)&(flights['DEPARTURE_DELAY']<=D)].count()['ARRIVAL_DELAY']*1.0/arrival_delay*100\n",
    "print 'departure on time & arrival delayed: '+str(flights[(flights['ARRIVAL_DELAY']>D)&(flights['DEPARTURE_DELAY']<=D)].count()['ARRIVAL_DELAY'])+' '+str(ratio2)+'%'"
   ]
  },
  {
   "cell_type": "code",
   "execution_count": null,
   "metadata": {
    "collapsed": false
   },
   "outputs": [],
   "source": []
  },
  {
   "cell_type": "code",
   "execution_count": 174,
   "metadata": {
    "collapsed": false
   },
   "outputs": [
    {
     "data": {
      "text/html": [
       "<div>\n",
       "<table border=\"1\" class=\"dataframe\">\n",
       "  <thead>\n",
       "    <tr style=\"text-align: right;\">\n",
       "      <th></th>\n",
       "      <th>IATA_CODE</th>\n",
       "      <th>AIRLINE</th>\n",
       "    </tr>\n",
       "  </thead>\n",
       "  <tbody>\n",
       "    <tr>\n",
       "      <th>0</th>\n",
       "      <td>UA</td>\n",
       "      <td>United Air Lines Inc.</td>\n",
       "    </tr>\n",
       "    <tr>\n",
       "      <th>1</th>\n",
       "      <td>AA</td>\n",
       "      <td>American Airlines Inc.</td>\n",
       "    </tr>\n",
       "    <tr>\n",
       "      <th>2</th>\n",
       "      <td>US</td>\n",
       "      <td>US Airways Inc.</td>\n",
       "    </tr>\n",
       "    <tr>\n",
       "      <th>3</th>\n",
       "      <td>F9</td>\n",
       "      <td>Frontier Airlines Inc.</td>\n",
       "    </tr>\n",
       "    <tr>\n",
       "      <th>4</th>\n",
       "      <td>B6</td>\n",
       "      <td>JetBlue Airways</td>\n",
       "    </tr>\n",
       "  </tbody>\n",
       "</table>\n",
       "</div>"
      ],
      "text/plain": [
       "  IATA_CODE                 AIRLINE\n",
       "0        UA   United Air Lines Inc.\n",
       "1        AA  American Airlines Inc.\n",
       "2        US         US Airways Inc.\n",
       "3        F9  Frontier Airlines Inc.\n",
       "4        B6         JetBlue Airways"
      ]
     },
     "execution_count": 174,
     "metadata": {},
     "output_type": "execute_result"
    }
   ],
   "source": [
    "airlines.head()"
   ]
  },
  {
   "cell_type": "code",
   "execution_count": 126,
   "metadata": {
    "collapsed": false
   },
   "outputs": [],
   "source": [
    "airlines_code = {}\n",
    "for i in range(airlines.shape[0]):\n",
    "    airlines_code[airlines['IATA_CODE'][i]] = airlines['AIRLINE'][i]"
   ]
  },
  {
   "cell_type": "code",
   "execution_count": 139,
   "metadata": {
    "collapsed": false
   },
   "outputs": [],
   "source": [
    "arr_delayed_airline = {}\n",
    "scheduled_airline = {}\n",
    "cancelled_airline = {}\n",
    "operated_airline = {}\n",
    "for key in airlines_code:\n",
    "    arr_delayed_airline[key] = flights[(flights['ARRIVAL_DELAY']>D)&(flights['AIRLINE']==key)].count()['ARRIVAL_DELAY']\n",
    "    scheduled_airline[key] = flights[flights['AIRLINE']==key].count()['SCHEDULED_DEPARTURE']\n",
    "    cancelled_airline[key] = flights[(flights['AIRLINE']==key)&(flights['CANCELLED']==1)].count()['CANCELLED']\n",
    "    operated_airline[key] = scheduled_airline[key] - cancelled_airline[key]"
   ]
  },
  {
   "cell_type": "code",
   "execution_count": 159,
   "metadata": {
    "collapsed": false
   },
   "outputs": [
    {
     "name": "stdout",
     "output_type": "stream",
     "text": [
      "WN: 21.744974643% 134288 10.7791544792% Southwest Airlines Co.\n",
      "AA: 12.4810728209% 76679 10.7233608134% American Airlines Inc.\n",
      "EV: 9.71770030519% 67513 12.1263556451% Atlantic Southeast Airlines\n",
      "DL: 15.2212832693% 67496 7.73986104119% Delta Air Lines Inc.\n",
      "UA: 8.88693786823% 66321 13.0258273593% United Air Lines Inc.\n",
      "OO: 10.0955369821% 65631 11.3471290282% Skywest Airlines Inc.\n",
      "MQ: 4.88038895517% 39167 14.0078753393% American Eagle Airlines Inc.\n",
      "B6: 4.58654313564% 37339 14.2096570411% JetBlue Airways\n",
      "NK: 2.01380822262% 22192 19.2346695558% Spirit Air Lines\n",
      "US: 3.39747556158% 19766 10.1547408656% US Airways Inc.\n",
      "F9: 1.57523002795% 14902 16.5122772804% Frontier Airlines Inc.\n",
      "AS: 2.99958371115% 11194 6.5137443847% Alaska Airlines Inc.\n",
      "VX: 1.07116270261% 7059 11.5025501475% Virgin America\n",
      "HA: 1.32830179458% 3150 4.1392360153% Hawaiian Airlines Inc.\n"
     ]
    }
   ],
   "source": [
    "delayed_airline = []\n",
    "for key in arr_delayed_airline:\n",
    "    delayed_airline.append((arr_delayed_airline[key], key))\n",
    "delayed_airline.sort(reverse=True)\n",
    "for t in delayed_airline:\n",
    "    ratio1 = operated_airline[t[1]]*1.0/sum(operated_airline.values())*100\n",
    "    ratio2 = t[0]*1.0/operated_airline[t[1]]*100\n",
    "    print t[1]+': '+str(ratio1)+'% '+str(t[0])+' '+str(ratio2)+'% '+airlines_code[t[1]]"
   ]
  },
  {
   "cell_type": "code",
   "execution_count": null,
   "metadata": {
    "collapsed": false
   },
   "outputs": [],
   "source": []
  },
  {
   "cell_type": "code",
   "execution_count": 176,
   "metadata": {
    "collapsed": false
   },
   "outputs": [
    {
     "data": {
      "text/html": [
       "<div>\n",
       "<table border=\"1\" class=\"dataframe\">\n",
       "  <thead>\n",
       "    <tr style=\"text-align: right;\">\n",
       "      <th></th>\n",
       "      <th>IATA_CODE</th>\n",
       "      <th>AIRPORT</th>\n",
       "      <th>CITY</th>\n",
       "      <th>STATE</th>\n",
       "      <th>COUNTRY</th>\n",
       "      <th>LATITUDE</th>\n",
       "      <th>LONGITUDE</th>\n",
       "    </tr>\n",
       "  </thead>\n",
       "  <tbody>\n",
       "    <tr>\n",
       "      <th>0</th>\n",
       "      <td>ABE</td>\n",
       "      <td>Lehigh Valley International Airport</td>\n",
       "      <td>Allentown</td>\n",
       "      <td>PA</td>\n",
       "      <td>USA</td>\n",
       "      <td>40.65236</td>\n",
       "      <td>-75.44040</td>\n",
       "    </tr>\n",
       "    <tr>\n",
       "      <th>1</th>\n",
       "      <td>ABI</td>\n",
       "      <td>Abilene Regional Airport</td>\n",
       "      <td>Abilene</td>\n",
       "      <td>TX</td>\n",
       "      <td>USA</td>\n",
       "      <td>32.41132</td>\n",
       "      <td>-99.68190</td>\n",
       "    </tr>\n",
       "    <tr>\n",
       "      <th>2</th>\n",
       "      <td>ABQ</td>\n",
       "      <td>Albuquerque International Sunport</td>\n",
       "      <td>Albuquerque</td>\n",
       "      <td>NM</td>\n",
       "      <td>USA</td>\n",
       "      <td>35.04022</td>\n",
       "      <td>-106.60919</td>\n",
       "    </tr>\n",
       "    <tr>\n",
       "      <th>3</th>\n",
       "      <td>ABR</td>\n",
       "      <td>Aberdeen Regional Airport</td>\n",
       "      <td>Aberdeen</td>\n",
       "      <td>SD</td>\n",
       "      <td>USA</td>\n",
       "      <td>45.44906</td>\n",
       "      <td>-98.42183</td>\n",
       "    </tr>\n",
       "    <tr>\n",
       "      <th>4</th>\n",
       "      <td>ABY</td>\n",
       "      <td>Southwest Georgia Regional Airport</td>\n",
       "      <td>Albany</td>\n",
       "      <td>GA</td>\n",
       "      <td>USA</td>\n",
       "      <td>31.53552</td>\n",
       "      <td>-84.19447</td>\n",
       "    </tr>\n",
       "  </tbody>\n",
       "</table>\n",
       "</div>"
      ],
      "text/plain": [
       "  IATA_CODE                              AIRPORT         CITY STATE COUNTRY  \\\n",
       "0       ABE  Lehigh Valley International Airport    Allentown    PA     USA   \n",
       "1       ABI             Abilene Regional Airport      Abilene    TX     USA   \n",
       "2       ABQ    Albuquerque International Sunport  Albuquerque    NM     USA   \n",
       "3       ABR            Aberdeen Regional Airport     Aberdeen    SD     USA   \n",
       "4       ABY   Southwest Georgia Regional Airport       Albany    GA     USA   \n",
       "\n",
       "   LATITUDE  LONGITUDE  \n",
       "0  40.65236  -75.44040  \n",
       "1  32.41132  -99.68190  \n",
       "2  35.04022 -106.60919  \n",
       "3  45.44906  -98.42183  \n",
       "4  31.53552  -84.19447  "
      ]
     },
     "execution_count": 176,
     "metadata": {},
     "output_type": "execute_result"
    }
   ],
   "source": [
    "airports.head()"
   ]
  },
  {
   "cell_type": "code",
   "execution_count": 170,
   "metadata": {
    "collapsed": false
   },
   "outputs": [],
   "source": [
    "airports_name = {}\n",
    "for i in range(airports.shape[0]):\n",
    "    airports_name[airports['IATA_CODE'][i]] = (airports['AIRPORT'][i], airports['STATE'][i]) "
   ]
  },
  {
   "cell_type": "code",
   "execution_count": 161,
   "metadata": {
    "collapsed": false
   },
   "outputs": [],
   "source": [
    "arr_delayed_airport = {}\n",
    "arr_flight_vol_airport = {}\n",
    "for key in airports_name:\n",
    "    arr_delayed_airport[key] = flights[(flights['ARRIVAL_DELAY']>D)&(flights['DESTINATION_AIRPORT']==key)].count()['ARRIVAL_DELAY']\n",
    "    operated = flights[flights['DESTINATION_AIRPORT']==key].count()['SCHEDULED_DEPARTURE']-flights[(flights['DESTINATION_AIRPORT']==key)&(flights['CANCELLED']==1)].count()['CANCELLED']\n",
    "    arr_flight_vol_airport[key] = operated"
   ]
  },
  {
   "cell_type": "code",
   "execution_count": 173,
   "metadata": {
    "collapsed": false
   },
   "outputs": [
    {
     "name": "stdout",
     "output_type": "stream",
     "text": [
      "Ordered by arrival delay:\n",
      "ORD: 37817 276633 13.6704586944% Chicago O'Hare International Airport, IL\n",
      "ATL: 30982 344189 9.00144978486% Hartsfield-Jackson Atlanta International Airport, GA\n",
      "DFW: 27210 232833 11.6864877401% Dallas/Fort Worth International Airport, TX\n",
      "LAX: 24809 192437 12.8920114115% Los Angeles International Airport, CA\n",
      "DEN: 22976 193700 11.861641714% Denver International Airport, CO\n",
      "Ordered by flight volumn:\n",
      "ATL: 344189 30982 9.00144978486% Hartsfield-Jackson Atlanta International Airport, GA\n",
      "ORD: 276633 37817 13.6704586944% Chicago O'Hare International Airport, IL\n",
      "DFW: 232833 27210 11.6864877401% Dallas/Fort Worth International Airport, TX\n",
      "DEN: 193700 22976 11.861641714% Denver International Airport, CO\n",
      "LAX: 192437 24809 12.8920114115% Los Angeles International Airport, CA\n",
      "Ordered by ratio:\n",
      "STC: 29.8701298701% 77 23 St. Cloud Regional Airport, MN\n",
      "ILG: 23.1578947368% 95 22 Wilmington Airport, DE\n",
      "MQT: 22.1476510067% 298 66 Sawyer International Airport, MI\n",
      "OTH: 21.2686567164% 268 57 Southwest Oregon Regional Airport (North Bend Municipal), OR\n",
      "PBG: 20.2846975089% 281 57 Plattsburgh International Airport, NY\n"
     ]
    }
   ],
   "source": [
    "delayed_airport1 = []\n",
    "delayed_airport2 = []\n",
    "delayed_airport3 = []\n",
    "for key in arr_delayed_airport:\n",
    "    ratio = arr_delayed_airport[key]*1.0/arr_flight_vol_airport[key]*100\n",
    "    delayed_airport1.append((arr_delayed_airport[key], arr_flight_vol_airport[key], ratio, key))\n",
    "    delayed_airport2.append((arr_flight_vol_airport[key], arr_delayed_airport[key], ratio, key))\n",
    "    delayed_airport3.append((ratio, arr_flight_vol_airport[key], arr_delayed_airport[key], key))\n",
    "delayed_airport1.sort(reverse=True)\n",
    "delayed_airport2.sort(reverse=True)\n",
    "delayed_airport3.sort(reverse=True)\n",
    "i = 0\n",
    "print 'Ordered by arrival delay:'\n",
    "for t in delayed_airport1:\n",
    "    print t[-1]+': '+str(t[0])+' '+str(t[1])+' '+str(t[2])+'% '+airports_name[t[-1]][0]+', '+airports_name[t[-1]][1]\n",
    "    i += 1\n",
    "    if i == 5:\n",
    "        break\n",
    "i = 0\n",
    "print 'Ordered by flight volumn:'\n",
    "for t in delayed_airport2:\n",
    "    print t[-1]+': '+str(t[0])+' '+str(t[1])+' '+str(t[2])+'% '+airports_name[t[-1]][0]+', '+airports_name[t[-1]][1]\n",
    "    i += 1\n",
    "    if i == 5:\n",
    "        break\n",
    "i = 0\n",
    "print 'Ordered by ratio:'\n",
    "for t in delayed_airport3:\n",
    "    print t[-1]+': '+str(t[0])+'% '+str(t[1])+' '+str(t[2])+' '+airports_name[t[-1]][0]+', '+airports_name[t[-1]][1]\n",
    "    i += 1\n",
    "    if i == 5:\n",
    "        break"
   ]
  },
  {
   "cell_type": "code",
   "execution_count": null,
   "metadata": {
    "collapsed": true
   },
   "outputs": [],
   "source": []
  },
  {
   "cell_type": "code",
   "execution_count": 182,
   "metadata": {
    "collapsed": false
   },
   "outputs": [],
   "source": [
    "# flight_route = {}\n",
    "# for key in airports_name:\n",
    "#     for k in airports_name.keys():\n",
    "#         if key is not k:\n",
    "#             flight_route[key+k] = flights[(flights['ARRIVAL_DELAY']>D)&(flights['DESTINATION_AIRPORT']==k)&(flights['ORIGIN_AIRPORT']==key)].count()['ARRIVAL_DELAY']"
   ]
  },
  {
   "cell_type": "code",
   "execution_count": 188,
   "metadata": {
    "collapsed": false
   },
   "outputs": [],
   "source": [
    "sample_flights = pd.read_csv('/Users/wangzongwei/Desktop/cse258/flight-delays/sample_flights.csv', low_memory=False, header=None)"
   ]
  },
  {
   "cell_type": "code",
   "execution_count": 202,
   "metadata": {
    "collapsed": false
   },
   "outputs": [],
   "source": [
    "sample_flights.columns = ['YEAR', 'MONTH', 'DAY', 'DAY_OF_WEEK', 'AIRLINE', 'FLIGHT_NUMBER', 'TAIL_NUMBER', \\\n",
    "                          'ORIGIN_AIRPORT', 'DESTINATION_AIRPORT', 'SCHEDULED_DEPARTURE', 'DEPARTURE_TIME', \\\n",
    "                          'DEPARTURE_DELAY', 'TAXI_OUT', 'WHEELS_OFF', 'SCHEDULED_TIME', 'ELAPSED_TIME', \\\n",
    "                          'AIR_TIME', 'DISTANCE', 'WHEELS_ON', 'TAXI_IN', 'SCHEDULED_ARRIVAL', 'ARRIVAL_TIME', \\\n",
    "                          'ARRIVAL_DELAY', 'DIVERTED', 'CANCELLED', 'CANCELLATION_REASON', 'AIR_SYSTEM_DELAY', \\\n",
    "                          'SECURITY_DELAY', 'AIRLINE_DELAY', 'LATE_AIRCRAFT_DELAY', 'WEATHER_DELAY']"
   ]
  },
  {
   "cell_type": "code",
   "execution_count": 255,
   "metadata": {
    "collapsed": false
   },
   "outputs": [
    {
     "data": {
      "text/html": [
       "<div>\n",
       "<table border=\"1\" class=\"dataframe\">\n",
       "  <thead>\n",
       "    <tr style=\"text-align: right;\">\n",
       "      <th></th>\n",
       "      <th>YEAR</th>\n",
       "      <th>MONTH</th>\n",
       "      <th>DAY</th>\n",
       "      <th>DAY_OF_WEEK</th>\n",
       "      <th>AIRLINE</th>\n",
       "      <th>FLIGHT_NUMBER</th>\n",
       "      <th>TAIL_NUMBER</th>\n",
       "      <th>ORIGIN_AIRPORT</th>\n",
       "      <th>DESTINATION_AIRPORT</th>\n",
       "      <th>SCHEDULED_DEPARTURE</th>\n",
       "      <th>...</th>\n",
       "      <th>ARRIVAL_TIME</th>\n",
       "      <th>ARRIVAL_DELAY</th>\n",
       "      <th>DIVERTED</th>\n",
       "      <th>CANCELLED</th>\n",
       "      <th>CANCELLATION_REASON</th>\n",
       "      <th>AIR_SYSTEM_DELAY</th>\n",
       "      <th>SECURITY_DELAY</th>\n",
       "      <th>AIRLINE_DELAY</th>\n",
       "      <th>LATE_AIRCRAFT_DELAY</th>\n",
       "      <th>WEATHER_DELAY</th>\n",
       "    </tr>\n",
       "  </thead>\n",
       "  <tbody>\n",
       "    <tr>\n",
       "      <th>9995</th>\n",
       "      <td>2015</td>\n",
       "      <td>6</td>\n",
       "      <td>8</td>\n",
       "      <td>1</td>\n",
       "      <td>AA</td>\n",
       "      <td>1312</td>\n",
       "      <td>N3AUAA</td>\n",
       "      <td>PHX</td>\n",
       "      <td>JFK</td>\n",
       "      <td>1235</td>\n",
       "      <td>...</td>\n",
       "      <td>2024.0</td>\n",
       "      <td>-12.0</td>\n",
       "      <td>0</td>\n",
       "      <td>0</td>\n",
       "      <td>NaN</td>\n",
       "      <td>NaN</td>\n",
       "      <td>NaN</td>\n",
       "      <td>NaN</td>\n",
       "      <td>NaN</td>\n",
       "      <td>NaN</td>\n",
       "    </tr>\n",
       "    <tr>\n",
       "      <th>9996</th>\n",
       "      <td>2015</td>\n",
       "      <td>2</td>\n",
       "      <td>4</td>\n",
       "      <td>3</td>\n",
       "      <td>NK</td>\n",
       "      <td>630</td>\n",
       "      <td>N620NK</td>\n",
       "      <td>ORD</td>\n",
       "      <td>LGA</td>\n",
       "      <td>1759</td>\n",
       "      <td>...</td>\n",
       "      <td>2147.0</td>\n",
       "      <td>41.0</td>\n",
       "      <td>0</td>\n",
       "      <td>0</td>\n",
       "      <td>NaN</td>\n",
       "      <td>41.0</td>\n",
       "      <td>0.0</td>\n",
       "      <td>0.0</td>\n",
       "      <td>0.0</td>\n",
       "      <td>0.0</td>\n",
       "    </tr>\n",
       "    <tr>\n",
       "      <th>9997</th>\n",
       "      <td>2015</td>\n",
       "      <td>5</td>\n",
       "      <td>14</td>\n",
       "      <td>4</td>\n",
       "      <td>UA</td>\n",
       "      <td>1090</td>\n",
       "      <td>N69824</td>\n",
       "      <td>IAD</td>\n",
       "      <td>DEN</td>\n",
       "      <td>1225</td>\n",
       "      <td>...</td>\n",
       "      <td>1420.0</td>\n",
       "      <td>1.0</td>\n",
       "      <td>0</td>\n",
       "      <td>0</td>\n",
       "      <td>NaN</td>\n",
       "      <td>NaN</td>\n",
       "      <td>NaN</td>\n",
       "      <td>NaN</td>\n",
       "      <td>NaN</td>\n",
       "      <td>NaN</td>\n",
       "    </tr>\n",
       "    <tr>\n",
       "      <th>9998</th>\n",
       "      <td>2015</td>\n",
       "      <td>6</td>\n",
       "      <td>19</td>\n",
       "      <td>5</td>\n",
       "      <td>AS</td>\n",
       "      <td>729</td>\n",
       "      <td>N583AS</td>\n",
       "      <td>IAD</td>\n",
       "      <td>SEA</td>\n",
       "      <td>1840</td>\n",
       "      <td>...</td>\n",
       "      <td>2201.0</td>\n",
       "      <td>12.0</td>\n",
       "      <td>0</td>\n",
       "      <td>0</td>\n",
       "      <td>NaN</td>\n",
       "      <td>NaN</td>\n",
       "      <td>NaN</td>\n",
       "      <td>NaN</td>\n",
       "      <td>NaN</td>\n",
       "      <td>NaN</td>\n",
       "    </tr>\n",
       "    <tr>\n",
       "      <th>9999</th>\n",
       "      <td>2015</td>\n",
       "      <td>2</td>\n",
       "      <td>10</td>\n",
       "      <td>2</td>\n",
       "      <td>US</td>\n",
       "      <td>849</td>\n",
       "      <td>N703UW</td>\n",
       "      <td>ATL</td>\n",
       "      <td>PHL</td>\n",
       "      <td>1945</td>\n",
       "      <td>...</td>\n",
       "      <td>2133.0</td>\n",
       "      <td>-10.0</td>\n",
       "      <td>0</td>\n",
       "      <td>0</td>\n",
       "      <td>NaN</td>\n",
       "      <td>NaN</td>\n",
       "      <td>NaN</td>\n",
       "      <td>NaN</td>\n",
       "      <td>NaN</td>\n",
       "      <td>NaN</td>\n",
       "    </tr>\n",
       "  </tbody>\n",
       "</table>\n",
       "<p>5 rows × 31 columns</p>\n",
       "</div>"
      ],
      "text/plain": [
       "      YEAR  MONTH  DAY  DAY_OF_WEEK AIRLINE  FLIGHT_NUMBER TAIL_NUMBER  \\\n",
       "9995  2015      6    8            1      AA           1312      N3AUAA   \n",
       "9996  2015      2    4            3      NK            630      N620NK   \n",
       "9997  2015      5   14            4      UA           1090      N69824   \n",
       "9998  2015      6   19            5      AS            729      N583AS   \n",
       "9999  2015      2   10            2      US            849      N703UW   \n",
       "\n",
       "     ORIGIN_AIRPORT DESTINATION_AIRPORT  SCHEDULED_DEPARTURE      ...        \\\n",
       "9995            PHX                 JFK                 1235      ...         \n",
       "9996            ORD                 LGA                 1759      ...         \n",
       "9997            IAD                 DEN                 1225      ...         \n",
       "9998            IAD                 SEA                 1840      ...         \n",
       "9999            ATL                 PHL                 1945      ...         \n",
       "\n",
       "      ARRIVAL_TIME  ARRIVAL_DELAY  DIVERTED  CANCELLED  CANCELLATION_REASON  \\\n",
       "9995        2024.0          -12.0         0          0                  NaN   \n",
       "9996        2147.0           41.0         0          0                  NaN   \n",
       "9997        1420.0            1.0         0          0                  NaN   \n",
       "9998        2201.0           12.0         0          0                  NaN   \n",
       "9999        2133.0          -10.0         0          0                  NaN   \n",
       "\n",
       "      AIR_SYSTEM_DELAY  SECURITY_DELAY  AIRLINE_DELAY  LATE_AIRCRAFT_DELAY  \\\n",
       "9995               NaN             NaN            NaN                  NaN   \n",
       "9996              41.0             0.0            0.0                  0.0   \n",
       "9997               NaN             NaN            NaN                  NaN   \n",
       "9998               NaN             NaN            NaN                  NaN   \n",
       "9999               NaN             NaN            NaN                  NaN   \n",
       "\n",
       "      WEATHER_DELAY  \n",
       "9995            NaN  \n",
       "9996            0.0  \n",
       "9997            NaN  \n",
       "9998            NaN  \n",
       "9999            NaN  \n",
       "\n",
       "[5 rows x 31 columns]"
      ]
     },
     "execution_count": 255,
     "metadata": {},
     "output_type": "execute_result"
    }
   ],
   "source": [
    "sample_flights.tail()"
   ]
  },
  {
   "cell_type": "code",
   "execution_count": 295,
   "metadata": {
    "collapsed": false
   },
   "outputs": [],
   "source": [
    "X = []\n",
    "y = []\n",
    "airlines_id = dict(zip(airlines_code.keys(),range(len(airlines_code))))\n",
    "airports_id = dict(zip(airports_name.keys(),range(len(airports_name))))\n",
    "for i in range(sample_flights.shape[0]):\n",
    "    if sample_flights['CANCELLED'][i] or sample_flights['DIVERTED'][i]: \n",
    "        continue\n",
    "    feat = [1]\n",
    "    f_mon = [0]*12\n",
    "    f_mon[sample_flights['MONTH'][i]-1] = 1\n",
    "    feat += f_mon\n",
    "    f_dow = [0]*7\n",
    "    f_dow[sample_flights['DAY_OF_WEEK'][i]-1] = 1\n",
    "    feat += f_dow\n",
    "    f_airlines = [0]*len(airlines_code)\n",
    "    f_airlines[airlines_id[sample_flights['AIRLINE'][i]]] = 1\n",
    "    feat += f_airlines\n",
    "    f_airports = [0]*len(airports_name)\n",
    "    if sample_flights['DESTINATION_AIRPORT'][i] not in airports_id:\n",
    "        continue\n",
    "    f_airports[airports_id[sample_flights['DESTINATION_AIRPORT'][i]]] = 1\n",
    "    feat += f_airports\n",
    "    feat += sample_flights['DEPARTURE_DELAY'][i]>D\n",
    "    X.append(feat)\n",
    "    score = 0\n",
    "    if sample_flights['ARRIVAL_DELAY'][i]>D:\n",
    "        score = 1\n",
    "    elif sample_flights['ARRIVAL_DELAY'][i]<D:\n",
    "        score = -1\n",
    "    y.append(score)"
   ]
  },
  {
   "cell_type": "code",
   "execution_count": 297,
   "metadata": {
    "collapsed": true
   },
   "outputs": [],
   "source": [
    "X_train = X[:int(len(X)/2)]\n",
    "X_test = X[int(len(X)/2):]\n",
    "y_train = y[:int(len(y)/2)]\n",
    "y_test = y[int(len(y)/2):]"
   ]
  },
  {
   "cell_type": "code",
   "execution_count": 299,
   "metadata": {
    "collapsed": false
   },
   "outputs": [],
   "source": [
    "clf = svm.SVC(C=1.0)\n",
    "clf.fit(X_train, y_train)\n",
    "test_predictions = clf.predict(X_test)"
   ]
  },
  {
   "cell_type": "code",
   "execution_count": 302,
   "metadata": {
    "collapsed": false
   },
   "outputs": [],
   "source": [
    "# # for binary classification \n",
    "# TP = sum([y_test[i] and test_predictions[i] for i in range(len(y_test))])\n",
    "# TN = sum([not y_test[i] and not test_predictions[i] for i in range(len(y_test))])\n",
    "# FN = sum([y_test[i] and not test_predictions[i] for i in range(len(y_test))])\n",
    "# FP = sum([not y_test[i] and test_predictions[i] for i in range(len(y_test))])\n",
    "# TPR = TP*1.0/(TP+FN)\n",
    "# TNR = TN*1.0/(TN+FP)\n",
    "# BER = 1-0.5*(TPR+TNR)\n",
    "# print BER"
   ]
  },
  {
   "cell_type": "code",
   "execution_count": 312,
   "metadata": {
    "collapsed": false
   },
   "outputs": [
    {
     "data": {
      "text/plain": [
       "0.98531048297351431"
      ]
     },
     "execution_count": 312,
     "metadata": {},
     "output_type": "execute_result"
    }
   ],
   "source": [
    "tri_accuracy = sum([y_test[i] == test_predictions[i] for i in range(len(y_test))])*1.0/len(y_test)"
   ]
  },
  {
   "cell_type": "code",
   "execution_count": 316,
   "metadata": {
    "collapsed": false
   },
   "outputs": [
    {
     "name": "stdout",
     "output_type": "stream",
     "text": [
      "0.384187533829\n"
     ]
    }
   ],
   "source": [
    "bc = sum([y_test[i]==-1 and test_predictions[i]!=-1 for i in range(len(y_test))])\n",
    "abc = sum([y_test[i]==-1 for i in range(len(y_test))])\n",
    "df = sum([y_test[i]==0 and test_predictions[i]!=0 for i in range(len(y_test))])\n",
    "ndef = sum([y_test[i]==0 for i in range(len(y_test))])\n",
    "gh = sum([y_test[i]==1 and test_predictions[i]!=1 for i in range(len(y_test))])\n",
    "ghi = sum([y_test[i]==1 for i in range(len(y_test))])\n",
    "tri_ber = (bc*1.0/abc+df*1.0/ndef+gh*1.0/ghi)*1.0/3\n",
    "print tri_ber"
   ]
  },
  {
   "cell_type": "code",
   "execution_count": null,
   "metadata": {
    "collapsed": true
   },
   "outputs": [],
   "source": []
  }
 ],
 "metadata": {
  "anaconda-cloud": {},
  "kernelspec": {
   "display_name": "Python [conda root]",
   "language": "python",
   "name": "conda-root-py"
  },
  "language_info": {
   "codemirror_mode": {
    "name": "ipython",
    "version": 2
   },
   "file_extension": ".py",
   "mimetype": "text/x-python",
   "name": "python",
   "nbconvert_exporter": "python",
   "pygments_lexer": "ipython2",
   "version": "2.7.12"
  }
 },
 "nbformat": 4,
 "nbformat_minor": 1
}
